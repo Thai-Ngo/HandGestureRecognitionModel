{
 "cells": [
  {
   "cell_type": "code",
   "execution_count": 1,
   "metadata": {},
   "outputs": [],
   "source": [
    "import csv\n",
    "\n",
    "import numpy as np\n",
    "import tensorflow as tf\n",
    "from sklearn.model_selection import train_test_split\n",
    "\n",
    "RANDOM_SEED = 1912046"
   ]
  },
  {
   "cell_type": "markdown",
   "metadata": {},
   "source": [
    "Specify each path"
   ]
  },
  {
   "cell_type": "code",
   "execution_count": 2,
   "metadata": {},
   "outputs": [],
   "source": [
    "dataset = 'model/point_history_classifier/point_history.csv'\n",
    "model_save_path = 'model/point_history_classifier/point_history_classifier.hdf5'"
   ]
  },
  {
   "cell_type": "markdown",
   "metadata": {},
   "source": [
    "# 分類数設定"
   ]
  },
  {
   "cell_type": "code",
   "execution_count": 3,
   "metadata": {},
   "outputs": [],
   "source": [
    "NUM_CLASSES = 4"
   ]
  },
  {
   "cell_type": "markdown",
   "metadata": {},
   "source": [
    "# 入力長"
   ]
  },
  {
   "cell_type": "code",
   "execution_count": 4,
   "metadata": {},
   "outputs": [],
   "source": [
    "TIME_STEPS = 16\n",
    "DIMENSION = 42"
   ]
  },
  {
   "cell_type": "markdown",
   "metadata": {},
   "source": [
    "# 学習データ読み込み"
   ]
  },
  {
   "cell_type": "code",
   "execution_count": 5,
   "metadata": {},
   "outputs": [],
   "source": [
    "X_dataset = np.loadtxt(dataset, delimiter=',', dtype='float32', usecols=list(range(1, (TIME_STEPS * DIMENSION) + 1)))"
   ]
  },
  {
   "cell_type": "code",
   "execution_count": 6,
   "metadata": {},
   "outputs": [],
   "source": [
    "y_dataset = np.loadtxt(dataset, delimiter=',', dtype='int32', usecols=(0))"
   ]
  },
  {
   "cell_type": "code",
   "execution_count": 7,
   "metadata": {},
   "outputs": [],
   "source": [
    "X_train, X_test, y_train, y_test = train_test_split(X_dataset, y_dataset, train_size=0.75, random_state=RANDOM_SEED)"
   ]
  },
  {
   "cell_type": "markdown",
   "metadata": {},
   "source": [
    "# モデル構築"
   ]
  },
  {
   "cell_type": "code",
   "execution_count": 8,
   "metadata": {},
   "outputs": [],
   "source": [
    "use_lstm = False\n",
    "model = None\n",
    "\n",
    "if use_lstm:\n",
    "    model = tf.keras.models.Sequential([\n",
    "        tf.keras.layers.InputLayer(input_shape=(TIME_STEPS * DIMENSION, )),\n",
    "        tf.keras.layers.Reshape((TIME_STEPS, DIMENSION), input_shape=(TIME_STEPS * DIMENSION, )), \n",
    "        tf.keras.layers.Dropout(0.2),\n",
    "        tf.keras.layers.LSTM(24, input_shape=[TIME_STEPS, DIMENSION]),\n",
    "        tf.keras.layers.Dropout(0.5),\n",
    "        tf.keras.layers.Dense(20, activation='relu'),\n",
    "        tf.keras.layers.Dense(NUM_CLASSES, activation='softmax')\n",
    "    ])\n",
    "else:\n",
    "    model = tf.keras.models.Sequential([\n",
    "        tf.keras.layers.InputLayer(input_shape=(TIME_STEPS * DIMENSION, )),\n",
    "        tf.keras.layers.Dropout(0.2),\n",
    "        tf.keras.layers.Dense(24, activation='relu'),\n",
    "        tf.keras.layers.Dropout(0.5),\n",
    "        tf.keras.layers.Dense(10, activation='relu'),\n",
    "        tf.keras.layers.Dense(NUM_CLASSES, activation='softmax')\n",
    "    ])"
   ]
  },
  {
   "cell_type": "code",
   "execution_count": 9,
   "metadata": {},
   "outputs": [
    {
     "name": "stdout",
     "output_type": "stream",
     "text": [
      "Model: \"sequential\"\n",
      "_________________________________________________________________\n",
      " Layer (type)                Output Shape              Param #   \n",
      "=================================================================\n",
      " dropout (Dropout)           (None, 672)               0         \n",
      "                                                                 \n",
      " dense (Dense)               (None, 24)                16152     \n",
      "                                                                 \n",
      " dropout_1 (Dropout)         (None, 24)                0         \n",
      "                                                                 \n",
      " dense_1 (Dense)             (None, 10)                250       \n",
      "                                                                 \n",
      " dense_2 (Dense)             (None, 4)                 44        \n",
      "                                                                 \n",
      "=================================================================\n",
      "Total params: 16,446\n",
      "Trainable params: 16,446\n",
      "Non-trainable params: 0\n",
      "_________________________________________________________________\n"
     ]
    }
   ],
   "source": [
    "model.summary()  # tf.keras.utils.plot_model(model, show_shapes=True)"
   ]
  },
  {
   "cell_type": "code",
   "execution_count": 10,
   "metadata": {},
   "outputs": [],
   "source": [
    "# モデルチェックポイントのコールバック\n",
    "cp_callback = tf.keras.callbacks.ModelCheckpoint(\n",
    "    model_save_path, verbose=1, save_weights_only=False)\n",
    "# 早期打ち切り用コールバック\n",
    "es_callback = tf.keras.callbacks.EarlyStopping(patience=20, verbose=1)"
   ]
  },
  {
   "cell_type": "code",
   "execution_count": 11,
   "metadata": {},
   "outputs": [],
   "source": [
    "# モデルコンパイル\n",
    "model.compile(\n",
    "    optimizer='adam',\n",
    "    loss='sparse_categorical_crossentropy',\n",
    "    metrics=['accuracy']\n",
    ")"
   ]
  },
  {
   "cell_type": "markdown",
   "metadata": {},
   "source": [
    "# モデル訓練"
   ]
  },
  {
   "cell_type": "code",
   "execution_count": 12,
   "metadata": {
    "scrolled": true
   },
   "outputs": [
    {
     "name": "stdout",
     "output_type": "stream",
     "text": [
      "Epoch 1/1000\n",
      "1/8 [==>...........................] - ETA: 4s - loss: 8968582.0000 - accuracy: 0.2969\n",
      "Epoch 1: saving model to model/point_history_classifier\\point_history_classifier.hdf5\n",
      "8/8 [==============================] - 1s 57ms/step - loss: 4227675.0000 - accuracy: 0.4332 - val_loss: 1231593.8750 - val_accuracy: 0.6753\n",
      "Epoch 2/1000\n",
      "1/8 [==>...........................] - ETA: 0s - loss: 1952785.7500 - accuracy: 0.5625\n",
      "Epoch 2: saving model to model/point_history_classifier\\point_history_classifier.hdf5\n",
      "8/8 [==============================] - 0s 17ms/step - loss: 9217431.0000 - accuracy: 0.5689 - val_loss: 448124.1562 - val_accuracy: 0.7565\n",
      "Epoch 3/1000\n",
      "1/8 [==>...........................] - ETA: 0s - loss: 433583.9375 - accuracy: 0.5547\n",
      "Epoch 3: saving model to model/point_history_classifier\\point_history_classifier.hdf5\n",
      "8/8 [==============================] - 0s 15ms/step - loss: 6811856.5000 - accuracy: 0.6145 - val_loss: 412828.5312 - val_accuracy: 0.8214\n",
      "Epoch 4/1000\n",
      "1/8 [==>...........................] - ETA: 0s - loss: 1619238.2500 - accuracy: 0.6484\n",
      "Epoch 4: saving model to model/point_history_classifier\\point_history_classifier.hdf5\n",
      "8/8 [==============================] - 0s 16ms/step - loss: 7740136.0000 - accuracy: 0.6352 - val_loss: 398022.5000 - val_accuracy: 0.8019\n",
      "Epoch 5/1000\n",
      "1/8 [==>...........................] - ETA: 0s - loss: 892500.5000 - accuracy: 0.7266\n",
      "Epoch 5: saving model to model/point_history_classifier\\point_history_classifier.hdf5\n",
      "8/8 [==============================] - 0s 17ms/step - loss: 2033077.5000 - accuracy: 0.6678 - val_loss: 404486.4375 - val_accuracy: 0.8084\n",
      "Epoch 6/1000\n",
      "1/8 [==>...........................] - ETA: 0s - loss: 358919.5938 - accuracy: 0.6641\n",
      "Epoch 6: saving model to model/point_history_classifier\\point_history_classifier.hdf5\n",
      "8/8 [==============================] - 0s 15ms/step - loss: 5872608.5000 - accuracy: 0.6374 - val_loss: 364001.8750 - val_accuracy: 0.7727\n",
      "Epoch 7/1000\n",
      "1/8 [==>...........................] - ETA: 0s - loss: 591902.4375 - accuracy: 0.6016\n",
      "Epoch 7: saving model to model/point_history_classifier\\point_history_classifier.hdf5\n",
      "8/8 [==============================] - 0s 33ms/step - loss: 1011299.1875 - accuracy: 0.6265 - val_loss: 220213.8906 - val_accuracy: 0.7240\n",
      "Epoch 8/1000\n",
      "7/8 [=========================>....] - ETA: 0s - loss: 542688.5625 - accuracy: 0.5938\n",
      "Epoch 8: saving model to model/point_history_classifier\\point_history_classifier.hdf5\n",
      "8/8 [==============================] - 0s 33ms/step - loss: 528283.3750 - accuracy: 0.5950 - val_loss: 148363.2969 - val_accuracy: 0.6981\n",
      "Epoch 9/1000\n",
      "1/8 [==>...........................] - ETA: 0s - loss: 1841327.1250 - accuracy: 0.5703\n",
      "Epoch 9: saving model to model/point_history_classifier\\point_history_classifier.hdf5\n",
      "8/8 [==============================] - 0s 16ms/step - loss: 2660252.0000 - accuracy: 0.6069 - val_loss: 159198.7031 - val_accuracy: 0.7143\n",
      "Epoch 10/1000\n",
      "1/8 [==>...........................] - ETA: 0s - loss: 636723.2500 - accuracy: 0.6953\n",
      "Epoch 10: saving model to model/point_history_classifier\\point_history_classifier.hdf5\n",
      "8/8 [==============================] - 0s 17ms/step - loss: 761426.0625 - accuracy: 0.6308 - val_loss: 156118.0000 - val_accuracy: 0.7175\n",
      "Epoch 11/1000\n",
      "1/8 [==>...........................] - ETA: 0s - loss: 1206598.1250 - accuracy: 0.5938\n",
      "Epoch 11: saving model to model/point_history_classifier\\point_history_classifier.hdf5\n",
      "8/8 [==============================] - 0s 16ms/step - loss: 644291.5625 - accuracy: 0.5917 - val_loss: 133747.6719 - val_accuracy: 0.7143\n",
      "Epoch 12/1000\n",
      "5/8 [=================>............] - ETA: 0s - loss: 386541.0312 - accuracy: 0.6016\n",
      "Epoch 12: saving model to model/point_history_classifier\\point_history_classifier.hdf5\n",
      "8/8 [==============================] - 0s 32ms/step - loss: 1828208.6250 - accuracy: 0.6232 - val_loss: 109654.0625 - val_accuracy: 0.7143\n",
      "Epoch 13/1000\n",
      "1/8 [==>...........................] - ETA: 0s - loss: 151720.0312 - accuracy: 0.6797\n",
      "Epoch 13: saving model to model/point_history_classifier\\point_history_classifier.hdf5\n",
      "8/8 [==============================] - 0s 22ms/step - loss: 446136.7188 - accuracy: 0.6417 - val_loss: 117911.7656 - val_accuracy: 0.7045\n",
      "Epoch 14/1000\n",
      "8/8 [==============================] - ETA: 0s - loss: 238287.0938 - accuracy: 0.6189\n",
      "Epoch 14: saving model to model/point_history_classifier\\point_history_classifier.hdf5\n",
      "8/8 [==============================] - 0s 31ms/step - loss: 238287.0938 - accuracy: 0.6189 - val_loss: 99495.5312 - val_accuracy: 0.7045\n",
      "Epoch 15/1000\n",
      "8/8 [==============================] - ETA: 0s - loss: 335213.3125 - accuracy: 0.6254\n",
      "Epoch 15: saving model to model/point_history_classifier\\point_history_classifier.hdf5\n",
      "8/8 [==============================] - 0s 35ms/step - loss: 335213.3125 - accuracy: 0.6254 - val_loss: 81890.2500 - val_accuracy: 0.7143\n",
      "Epoch 16/1000\n",
      "6/8 [=====================>........] - ETA: 0s - loss: 457918.7188 - accuracy: 0.5898\n",
      "Epoch 16: saving model to model/point_history_classifier\\point_history_classifier.hdf5\n",
      "8/8 [==============================] - 0s 33ms/step - loss: 497711.4688 - accuracy: 0.5950 - val_loss: 148667.4219 - val_accuracy: 0.7110\n",
      "Epoch 17/1000\n",
      "6/8 [=====================>........] - ETA: 0s - loss: 218273.8906 - accuracy: 0.5951\n",
      "Epoch 17: saving model to model/point_history_classifier\\point_history_classifier.hdf5\n",
      "8/8 [==============================] - 0s 33ms/step - loss: 230305.6406 - accuracy: 0.5950 - val_loss: 154680.0781 - val_accuracy: 0.6916\n",
      "Epoch 18/1000\n",
      "1/8 [==>...........................] - ETA: 0s - loss: 154194.7031 - accuracy: 0.5547\n",
      "Epoch 18: saving model to model/point_history_classifier\\point_history_classifier.hdf5\n",
      "8/8 [==============================] - 0s 34ms/step - loss: 405417.5312 - accuracy: 0.6048 - val_loss: 148246.4375 - val_accuracy: 0.6721\n",
      "Epoch 19/1000\n",
      "6/8 [=====================>........] - ETA: 0s - loss: 151874.3125 - accuracy: 0.5755\n",
      "Epoch 19: saving model to model/point_history_classifier\\point_history_classifier.hdf5\n",
      "8/8 [==============================] - 0s 30ms/step - loss: 170653.0469 - accuracy: 0.5852 - val_loss: 129607.5547 - val_accuracy: 0.6494\n",
      "Epoch 20/1000\n",
      "1/8 [==>...........................] - ETA: 0s - loss: 227475.9531 - accuracy: 0.7109\n",
      "Epoch 20: saving model to model/point_history_classifier\\point_history_classifier.hdf5\n",
      "8/8 [==============================] - 0s 25ms/step - loss: 192100.9062 - accuracy: 0.5841 - val_loss: 114678.2969 - val_accuracy: 0.6299\n",
      "Epoch 21/1000\n",
      "1/8 [==>...........................] - ETA: 0s - loss: 40875.4375 - accuracy: 0.5703\n",
      "Epoch 21: saving model to model/point_history_classifier\\point_history_classifier.hdf5\n",
      "8/8 [==============================] - 0s 16ms/step - loss: 224667.0000 - accuracy: 0.5874 - val_loss: 101070.9297 - val_accuracy: 0.6623\n",
      "Epoch 22/1000\n",
      "8/8 [==============================] - ETA: 0s - loss: 214042.6094 - accuracy: 0.5755\n",
      "Epoch 22: saving model to model/point_history_classifier\\point_history_classifier.hdf5\n",
      "8/8 [==============================] - 0s 32ms/step - loss: 214042.6094 - accuracy: 0.5755 - val_loss: 81205.1250 - val_accuracy: 0.6494\n",
      "Epoch 23/1000\n",
      "1/8 [==>...........................] - ETA: 0s - loss: 53334.3516 - accuracy: 0.5938\n",
      "Epoch 23: saving model to model/point_history_classifier\\point_history_classifier.hdf5\n",
      "8/8 [==============================] - 0s 18ms/step - loss: 181470.1094 - accuracy: 0.5668 - val_loss: 84198.2188 - val_accuracy: 0.6461\n",
      "Epoch 24/1000\n",
      "1/8 [==>...........................] - ETA: 0s - loss: 78063.0469 - accuracy: 0.5625\n",
      "Epoch 24: saving model to model/point_history_classifier\\point_history_classifier.hdf5\n",
      "8/8 [==============================] - 0s 21ms/step - loss: 152231.8594 - accuracy: 0.5559 - val_loss: 90792.8672 - val_accuracy: 0.6396\n",
      "Epoch 25/1000\n",
      "1/8 [==>...........................] - ETA: 0s - loss: 13940.9863 - accuracy: 0.6094\n",
      "Epoch 25: saving model to model/point_history_classifier\\point_history_classifier.hdf5\n",
      "8/8 [==============================] - 0s 17ms/step - loss: 252180.2031 - accuracy: 0.5722 - val_loss: 90190.2578 - val_accuracy: 0.7403\n",
      "Epoch 26/1000\n"
     ]
    },
    {
     "name": "stdout",
     "output_type": "stream",
     "text": [
      "7/8 [=========================>....] - ETA: 0s - loss: 356301.5625 - accuracy: 0.6540\n",
      "Epoch 26: saving model to model/point_history_classifier\\point_history_classifier.hdf5\n",
      "8/8 [==============================] - 0s 51ms/step - loss: 352621.7812 - accuracy: 0.6493 - val_loss: 85853.8281 - val_accuracy: 0.7792\n",
      "Epoch 27/1000\n",
      "7/8 [=========================>....] - ETA: 0s - loss: 185158.2812 - accuracy: 0.6864\n",
      "Epoch 27: saving model to model/point_history_classifier\\point_history_classifier.hdf5\n",
      "8/8 [==============================] - 0s 31ms/step - loss: 180758.2031 - accuracy: 0.6840 - val_loss: 80292.5625 - val_accuracy: 0.7857\n",
      "Epoch 28/1000\n",
      "8/8 [==============================] - ETA: 0s - loss: 263156.7500 - accuracy: 0.6710\n",
      "Epoch 28: saving model to model/point_history_classifier\\point_history_classifier.hdf5\n",
      "8/8 [==============================] - 0s 21ms/step - loss: 263156.7500 - accuracy: 0.6710 - val_loss: 80616.0859 - val_accuracy: 0.7597\n",
      "Epoch 29/1000\n",
      "1/8 [==>...........................] - ETA: 0s - loss: 53692.5547 - accuracy: 0.6875\n",
      "Epoch 29: saving model to model/point_history_classifier\\point_history_classifier.hdf5\n",
      "8/8 [==============================] - 0s 17ms/step - loss: 130048.5234 - accuracy: 0.6645 - val_loss: 76521.5078 - val_accuracy: 0.8019\n",
      "Epoch 30/1000\n",
      "1/8 [==>...........................] - ETA: 0s - loss: 81972.1016 - accuracy: 0.7031\n",
      "Epoch 30: saving model to model/point_history_classifier\\point_history_classifier.hdf5\n",
      "8/8 [==============================] - 0s 17ms/step - loss: 67422.5625 - accuracy: 0.6428 - val_loss: 69988.0938 - val_accuracy: 0.7987\n",
      "Epoch 31/1000\n",
      "1/8 [==>...........................] - ETA: 0s - loss: 78032.4688 - accuracy: 0.6641\n",
      "Epoch 31: saving model to model/point_history_classifier\\point_history_classifier.hdf5\n",
      "8/8 [==============================] - 0s 20ms/step - loss: 162607.3906 - accuracy: 0.6645 - val_loss: 67201.6797 - val_accuracy: 0.7987\n",
      "Epoch 32/1000\n",
      "6/8 [=====================>........] - ETA: 0s - loss: 848189.1875 - accuracy: 0.6562\n",
      "Epoch 32: saving model to model/point_history_classifier\\point_history_classifier.hdf5\n",
      "8/8 [==============================] - 0s 47ms/step - loss: 718108.0000 - accuracy: 0.6645 - val_loss: 63604.0703 - val_accuracy: 0.7955\n",
      "Epoch 33/1000\n",
      "8/8 [==============================] - ETA: 0s - loss: 117798.2031 - accuracy: 0.6797\n",
      "Epoch 33: saving model to model/point_history_classifier\\point_history_classifier.hdf5\n",
      "8/8 [==============================] - 0s 28ms/step - loss: 117798.2031 - accuracy: 0.6797 - val_loss: 57294.0586 - val_accuracy: 0.7987\n",
      "Epoch 34/1000\n",
      "1/8 [==>...........................] - ETA: 0s - loss: 401904.5000 - accuracy: 0.6484\n",
      "Epoch 34: saving model to model/point_history_classifier\\point_history_classifier.hdf5\n",
      "8/8 [==============================] - 0s 18ms/step - loss: 130541.1875 - accuracy: 0.6754 - val_loss: 59697.4297 - val_accuracy: 0.8052\n",
      "Epoch 35/1000\n",
      "1/8 [==>...........................] - ETA: 0s - loss: 300761.5938 - accuracy: 0.7188\n",
      "Epoch 35: saving model to model/point_history_classifier\\point_history_classifier.hdf5\n",
      "8/8 [==============================] - 0s 18ms/step - loss: 102314.1797 - accuracy: 0.6710 - val_loss: 70682.6328 - val_accuracy: 0.7987\n",
      "Epoch 36/1000\n",
      "1/8 [==>...........................] - ETA: 0s - loss: 38476.8633 - accuracy: 0.6484\n",
      "Epoch 36: saving model to model/point_history_classifier\\point_history_classifier.hdf5\n",
      "8/8 [==============================] - 0s 20ms/step - loss: 82928.6562 - accuracy: 0.6634 - val_loss: 80121.8516 - val_accuracy: 0.7890\n",
      "Epoch 37/1000\n",
      "1/8 [==>...........................] - ETA: 0s - loss: 39001.5312 - accuracy: 0.6797\n",
      "Epoch 37: saving model to model/point_history_classifier\\point_history_classifier.hdf5\n",
      "8/8 [==============================] - 0s 20ms/step - loss: 85633.4609 - accuracy: 0.6602 - val_loss: 87661.8984 - val_accuracy: 0.7792\n",
      "Epoch 38/1000\n",
      "7/8 [=========================>....] - ETA: 0s - loss: 952835.5625 - accuracy: 0.6607\n",
      "Epoch 38: saving model to model/point_history_classifier\\point_history_classifier.hdf5\n",
      "8/8 [==============================] - 0s 26ms/step - loss: 929434.1250 - accuracy: 0.6612 - val_loss: 87761.2734 - val_accuracy: 0.7792\n",
      "Epoch 39/1000\n",
      "1/8 [==>...........................] - ETA: 0s - loss: 83356.7500 - accuracy: 0.6953\n",
      "Epoch 39: saving model to model/point_history_classifier\\point_history_classifier.hdf5\n",
      "8/8 [==============================] - 0s 20ms/step - loss: 200153.0312 - accuracy: 0.6634 - val_loss: 81680.8984 - val_accuracy: 0.7922\n",
      "Epoch 40/1000\n",
      "1/8 [==>...........................] - ETA: 0s - loss: 67833.3359 - accuracy: 0.6172\n",
      "Epoch 40: saving model to model/point_history_classifier\\point_history_classifier.hdf5\n",
      "8/8 [==============================] - 0s 20ms/step - loss: 513727.4062 - accuracy: 0.6580 - val_loss: 91595.6016 - val_accuracy: 0.7890\n",
      "Epoch 41/1000\n",
      "1/8 [==>...........................] - ETA: 0s - loss: 30099.3848 - accuracy: 0.5859\n",
      "Epoch 41: saving model to model/point_history_classifier\\point_history_classifier.hdf5\n",
      "8/8 [==============================] - 0s 26ms/step - loss: 63251.5859 - accuracy: 0.6450 - val_loss: 94155.5312 - val_accuracy: 0.7825\n",
      "Epoch 42/1000\n",
      "6/8 [=====================>........] - ETA: 0s - loss: 127821.2734 - accuracy: 0.6458\n",
      "Epoch 42: saving model to model/point_history_classifier\\point_history_classifier.hdf5\n",
      "8/8 [==============================] - 0s 35ms/step - loss: 124901.2812 - accuracy: 0.6417 - val_loss: 66266.0547 - val_accuracy: 0.7922\n",
      "Epoch 43/1000\n",
      "1/8 [==>...........................] - ETA: 0s - loss: 502154.9688 - accuracy: 0.7500\n",
      "Epoch 43: saving model to model/point_history_classifier\\point_history_classifier.hdf5\n",
      "8/8 [==============================] - 0s 30ms/step - loss: 106117.0469 - accuracy: 0.6406 - val_loss: 52034.9336 - val_accuracy: 0.7890\n",
      "Epoch 44/1000\n",
      "7/8 [=========================>....] - ETA: 0s - loss: 68535.7266 - accuracy: 0.6328\n",
      "Epoch 44: saving model to model/point_history_classifier\\point_history_classifier.hdf5\n",
      "8/8 [==============================] - 0s 27ms/step - loss: 67210.0312 - accuracy: 0.6374 - val_loss: 48860.9727 - val_accuracy: 0.7890\n",
      "Epoch 45/1000\n",
      "1/8 [==>...........................] - ETA: 0s - loss: 44430.8594 - accuracy: 0.6484\n",
      "Epoch 45: saving model to model/point_history_classifier\\point_history_classifier.hdf5\n",
      "8/8 [==============================] - 0s 35ms/step - loss: 22929.0176 - accuracy: 0.6710 - val_loss: 51254.8359 - val_accuracy: 0.7890\n",
      "Epoch 46/1000\n",
      "1/8 [==>...........................] - ETA: 0s - loss: 20968.7539 - accuracy: 0.7188\n",
      "Epoch 46: saving model to model/point_history_classifier\\point_history_classifier.hdf5\n",
      "8/8 [==============================] - 0s 22ms/step - loss: 131797.5000 - accuracy: 0.6786 - val_loss: 53891.5781 - val_accuracy: 0.7890\n",
      "Epoch 47/1000\n",
      "1/8 [==>...........................] - ETA: 0s - loss: 22695.2676 - accuracy: 0.6328\n",
      "Epoch 47: saving model to model/point_history_classifier\\point_history_classifier.hdf5\n",
      "8/8 [==============================] - 0s 17ms/step - loss: 1130342.1250 - accuracy: 0.6558 - val_loss: 55248.4102 - val_accuracy: 0.7792\n",
      "Epoch 48/1000\n",
      "1/8 [==>...........................] - ETA: 0s - loss: 2001.3802 - accuracy: 0.6484\n",
      "Epoch 48: saving model to model/point_history_classifier\\point_history_classifier.hdf5\n",
      "8/8 [==============================] - 1s 74ms/step - loss: 28295.5762 - accuracy: 0.6710 - val_loss: 54512.7852 - val_accuracy: 0.7825\n",
      "Epoch 49/1000\n",
      "7/8 [=========================>....] - ETA: 0s - loss: 27398.1191 - accuracy: 0.6596\n",
      "Epoch 49: saving model to model/point_history_classifier\\point_history_classifier.hdf5\n",
      "8/8 [==============================] - 0s 54ms/step - loss: 26665.1953 - accuracy: 0.6580 - val_loss: 53935.4219 - val_accuracy: 0.7727\n",
      "Epoch 50/1000\n",
      "1/8 [==>...........................] - ETA: 0s - loss: 36301.7422 - accuracy: 0.6641\n",
      "Epoch 50: saving model to model/point_history_classifier\\point_history_classifier.hdf5\n",
      "8/8 [==============================] - 0s 34ms/step - loss: 140137.7656 - accuracy: 0.6688 - val_loss: 55034.6289 - val_accuracy: 0.7825\n",
      "Epoch 51/1000\n",
      "7/8 [=========================>....] - ETA: 0s - loss: 48672.7148 - accuracy: 0.6853 \n",
      "Epoch 51: saving model to model/point_history_classifier\\point_history_classifier.hdf5\n"
     ]
    },
    {
     "name": "stdout",
     "output_type": "stream",
     "text": [
      "8/8 [==============================] - 0s 22ms/step - loss: 48642.0859 - accuracy: 0.6862 - val_loss: 56268.2227 - val_accuracy: 0.7825\n",
      "Epoch 52/1000\n",
      "8/8 [==============================] - ETA: 0s - loss: 40079.4414 - accuracy: 0.6569\n",
      "Epoch 52: saving model to model/point_history_classifier\\point_history_classifier.hdf5\n",
      "8/8 [==============================] - 0s 24ms/step - loss: 40079.4414 - accuracy: 0.6569 - val_loss: 44548.9883 - val_accuracy: 0.7857\n",
      "Epoch 53/1000\n",
      "7/8 [=========================>....] - ETA: 0s - loss: 58315.7773 - accuracy: 0.6429\n",
      "Epoch 53: saving model to model/point_history_classifier\\point_history_classifier.hdf5\n",
      "8/8 [==============================] - 0s 26ms/step - loss: 56732.8516 - accuracy: 0.6428 - val_loss: 35594.2500 - val_accuracy: 0.7825\n",
      "Epoch 54/1000\n",
      "1/8 [==>...........................] - ETA: 0s - loss: 57201.0742 - accuracy: 0.5938\n",
      "Epoch 54: saving model to model/point_history_classifier\\point_history_classifier.hdf5\n",
      "8/8 [==============================] - 0s 20ms/step - loss: 54108.5312 - accuracy: 0.6450 - val_loss: 31346.9453 - val_accuracy: 0.7727\n",
      "Epoch 55/1000\n",
      "8/8 [==============================] - ETA: 0s - loss: 12013.7500 - accuracy: 0.6417\n",
      "Epoch 55: saving model to model/point_history_classifier\\point_history_classifier.hdf5\n",
      "8/8 [==============================] - 0s 24ms/step - loss: 12013.7500 - accuracy: 0.6417 - val_loss: 29200.6426 - val_accuracy: 0.7760\n",
      "Epoch 56/1000\n",
      "1/8 [==>...........................] - ETA: 0s - loss: 13510.5186 - accuracy: 0.6719\n",
      "Epoch 56: saving model to model/point_history_classifier\\point_history_classifier.hdf5\n",
      "8/8 [==============================] - 0s 22ms/step - loss: 13040.3730 - accuracy: 0.6221 - val_loss: 27251.2148 - val_accuracy: 0.7792\n",
      "Epoch 57/1000\n",
      "1/8 [==>...........................] - ETA: 0s - loss: 495.5312 - accuracy: 0.6719\n",
      "Epoch 57: saving model to model/point_history_classifier\\point_history_classifier.hdf5\n",
      "8/8 [==============================] - 0s 23ms/step - loss: 58344.7383 - accuracy: 0.6504 - val_loss: 25284.5332 - val_accuracy: 0.7695\n",
      "Epoch 58/1000\n",
      "7/8 [=========================>....] - ETA: 0s - loss: 20970.8965 - accuracy: 0.6462\n",
      "Epoch 58: saving model to model/point_history_classifier\\point_history_classifier.hdf5\n",
      "8/8 [==============================] - 0s 23ms/step - loss: 20401.6719 - accuracy: 0.6439 - val_loss: 22473.4473 - val_accuracy: 0.7662\n",
      "Epoch 59/1000\n",
      "1/8 [==>...........................] - ETA: 0s - loss: 506913.2188 - accuracy: 0.7109\n",
      "Epoch 59: saving model to model/point_history_classifier\\point_history_classifier.hdf5\n",
      "8/8 [==============================] - 0s 22ms/step - loss: 107535.4297 - accuracy: 0.6319 - val_loss: 19875.0938 - val_accuracy: 0.7695\n",
      "Epoch 60/1000\n",
      "1/8 [==>...........................] - ETA: 0s - loss: 16.3445 - accuracy: 0.6719\n",
      "Epoch 60: saving model to model/point_history_classifier\\point_history_classifier.hdf5\n",
      "8/8 [==============================] - 0s 21ms/step - loss: 6991.5723 - accuracy: 0.6460 - val_loss: 18920.1641 - val_accuracy: 0.7662\n",
      "Epoch 61/1000\n",
      "1/8 [==>...........................] - ETA: 0s - loss: 48263.7070 - accuracy: 0.6484\n",
      "Epoch 61: saving model to model/point_history_classifier\\point_history_classifier.hdf5\n",
      "8/8 [==============================] - 0s 24ms/step - loss: 38397.5938 - accuracy: 0.6471 - val_loss: 15637.1074 - val_accuracy: 0.7662\n",
      "Epoch 62/1000\n",
      "8/8 [==============================] - ETA: 0s - loss: 16951.4746 - accuracy: 0.6265\n",
      "Epoch 62: saving model to model/point_history_classifier\\point_history_classifier.hdf5\n",
      "8/8 [==============================] - 0s 30ms/step - loss: 16951.4746 - accuracy: 0.6265 - val_loss: 10673.8750 - val_accuracy: 0.7662\n",
      "Epoch 63/1000\n",
      "4/8 [==============>...............] - ETA: 0s - loss: 76811.7969 - accuracy: 0.6445\n",
      "Epoch 63: saving model to model/point_history_classifier\\point_history_classifier.hdf5\n",
      "8/8 [==============================] - 0s 28ms/step - loss: 252186.8906 - accuracy: 0.6265 - val_loss: 12737.9600 - val_accuracy: 0.7630\n",
      "Epoch 64/1000\n",
      "1/8 [==>...........................] - ETA: 0s - loss: 14880.6846 - accuracy: 0.6953\n",
      "Epoch 64: saving model to model/point_history_classifier\\point_history_classifier.hdf5\n",
      "8/8 [==============================] - 0s 24ms/step - loss: 28200.0234 - accuracy: 0.6721 - val_loss: 16824.6875 - val_accuracy: 0.7630\n",
      "Epoch 65/1000\n",
      "1/8 [==>...........................] - ETA: 0s - loss: 916.1171 - accuracy: 0.6484\n",
      "Epoch 65: saving model to model/point_history_classifier\\point_history_classifier.hdf5\n",
      "8/8 [==============================] - 0s 23ms/step - loss: 41940.0625 - accuracy: 0.6460 - val_loss: 18619.9922 - val_accuracy: 0.7565\n",
      "Epoch 66/1000\n",
      "1/8 [==>...........................] - ETA: 0s - loss: 7655.2114 - accuracy: 0.7266\n",
      "Epoch 66: saving model to model/point_history_classifier\\point_history_classifier.hdf5\n",
      "8/8 [==============================] - 0s 22ms/step - loss: 24551.7402 - accuracy: 0.6569 - val_loss: 20214.5117 - val_accuracy: 0.7597\n",
      "Epoch 67/1000\n",
      "1/8 [==>...........................] - ETA: 0s - loss: 3074.9106 - accuracy: 0.7656\n",
      "Epoch 67: saving model to model/point_history_classifier\\point_history_classifier.hdf5\n",
      "8/8 [==============================] - 0s 22ms/step - loss: 11593.1738 - accuracy: 0.6678 - val_loss: 20862.3223 - val_accuracy: 0.7597\n",
      "Epoch 68/1000\n",
      "6/8 [=====================>........] - ETA: 0s - loss: 26300.2168 - accuracy: 0.6497\n",
      "Epoch 68: saving model to model/point_history_classifier\\point_history_classifier.hdf5\n",
      "8/8 [==============================] - 0s 25ms/step - loss: 28472.7988 - accuracy: 0.6558 - val_loss: 20129.4766 - val_accuracy: 0.7630\n",
      "Epoch 69/1000\n",
      "8/8 [==============================] - ETA: 0s - loss: 403710.3125 - accuracy: 0.6471 \n",
      "Epoch 69: saving model to model/point_history_classifier\\point_history_classifier.hdf5\n",
      "8/8 [==============================] - 0s 44ms/step - loss: 403710.3125 - accuracy: 0.6471 - val_loss: 27102.4922 - val_accuracy: 0.7565\n",
      "Epoch 70/1000\n",
      "1/8 [==>...........................] - ETA: 0s - loss: 864.7110 - accuracy: 0.7188\n",
      "Epoch 70: saving model to model/point_history_classifier\\point_history_classifier.hdf5\n",
      "8/8 [==============================] - 0s 22ms/step - loss: 52698.9609 - accuracy: 0.6254 - val_loss: 31926.8027 - val_accuracy: 0.7630\n",
      "Epoch 71/1000\n",
      "7/8 [=========================>....] - ETA: 0s - loss: 130424.2031 - accuracy: 0.6328\n",
      "Epoch 71: saving model to model/point_history_classifier\\point_history_classifier.hdf5\n",
      "8/8 [==============================] - 0s 39ms/step - loss: 126883.9375 - accuracy: 0.6330 - val_loss: 26817.2891 - val_accuracy: 0.7662\n",
      "Epoch 72/1000\n",
      "6/8 [=====================>........] - ETA: 0s - loss: 38594.1914 - accuracy: 0.6198\n",
      "Epoch 72: saving model to model/point_history_classifier\\point_history_classifier.hdf5\n",
      "8/8 [==============================] - 0s 28ms/step - loss: 55598.5664 - accuracy: 0.6102 - val_loss: 23856.1055 - val_accuracy: 0.7597\n",
      "Epoch 73/1000\n",
      "1/8 [==>...........................] - ETA: 0s - loss: 36202.3359 - accuracy: 0.6797\n",
      "Epoch 73: saving model to model/point_history_classifier\\point_history_classifier.hdf5\n",
      "8/8 [==============================] - 0s 22ms/step - loss: 22231.3789 - accuracy: 0.6374 - val_loss: 21912.9941 - val_accuracy: 0.7630\n",
      "Epoch 74/1000\n",
      "1/8 [==>...........................] - ETA: 0s - loss: 2107.1636 - accuracy: 0.6016\n",
      "Epoch 74: saving model to model/point_history_classifier\\point_history_classifier.hdf5\n",
      "8/8 [==============================] - 0s 20ms/step - loss: 1471206.2500 - accuracy: 0.6287 - val_loss: 29500.7559 - val_accuracy: 0.7662\n",
      "Epoch 75/1000\n",
      "1/8 [==>...........................] - ETA: 0s - loss: 156111.2344 - accuracy: 0.6562\n",
      "Epoch 75: saving model to model/point_history_classifier\\point_history_classifier.hdf5\n",
      "8/8 [==============================] - 0s 23ms/step - loss: 27774.9238 - accuracy: 0.6254 - val_loss: 37145.1016 - val_accuracy: 0.7662\n",
      "Epoch 76/1000\n",
      "1/8 [==>...........................] - ETA: 0s - loss: 26463.9805 - accuracy: 0.6797\n",
      "Epoch 76: saving model to model/point_history_classifier\\point_history_classifier.hdf5\n",
      "8/8 [==============================] - 0s 20ms/step - loss: 50635.1836 - accuracy: 0.6211 - val_loss: 40285.8008 - val_accuracy: 0.7630\n",
      "Epoch 77/1000\n"
     ]
    },
    {
     "name": "stdout",
     "output_type": "stream",
     "text": [
      "7/8 [=========================>....] - ETA: 0s - loss: 78995.0000 - accuracy: 0.6049\n",
      "Epoch 77: saving model to model/point_history_classifier\\point_history_classifier.hdf5\n",
      "8/8 [==============================] - 0s 23ms/step - loss: 76850.7500 - accuracy: 0.6004 - val_loss: 41961.6211 - val_accuracy: 0.7695\n",
      "Epoch 78/1000\n",
      "1/8 [==>...........................] - ETA: 0s - loss: 0.6978 - accuracy: 0.6875\n",
      "Epoch 78: saving model to model/point_history_classifier\\point_history_classifier.hdf5\n",
      "8/8 [==============================] - 0s 20ms/step - loss: 43603.9883 - accuracy: 0.6482 - val_loss: 36878.7773 - val_accuracy: 0.7695\n",
      "Epoch 79/1000\n",
      "1/8 [==>...........................] - ETA: 0s - loss: 5703.0879 - accuracy: 0.5938\n",
      "Epoch 79: saving model to model/point_history_classifier\\point_history_classifier.hdf5\n",
      "8/8 [==============================] - 0s 21ms/step - loss: 36949.6797 - accuracy: 0.6145 - val_loss: 32939.3125 - val_accuracy: 0.7695\n",
      "Epoch 80/1000\n",
      "1/8 [==>...........................] - ETA: 0s - loss: 390229.9688 - accuracy: 0.5859\n",
      "Epoch 80: saving model to model/point_history_classifier\\point_history_classifier.hdf5\n",
      "8/8 [==============================] - 0s 20ms/step - loss: 67426.1719 - accuracy: 0.6091 - val_loss: 32983.9102 - val_accuracy: 0.7532\n",
      "Epoch 81/1000\n",
      "1/8 [==>...........................] - ETA: 0s - loss: 7931.0688 - accuracy: 0.6328\n",
      "Epoch 81: saving model to model/point_history_classifier\\point_history_classifier.hdf5\n",
      "8/8 [==============================] - 0s 23ms/step - loss: 59207.1797 - accuracy: 0.6135 - val_loss: 34343.9883 - val_accuracy: 0.7532\n",
      "Epoch 82/1000\n",
      "1/8 [==>...........................] - ETA: 0s - loss: 55.0627 - accuracy: 0.6484\n",
      "Epoch 82: saving model to model/point_history_classifier\\point_history_classifier.hdf5\n",
      "8/8 [==============================] - 0s 23ms/step - loss: 23260.5996 - accuracy: 0.6135 - val_loss: 34278.9727 - val_accuracy: 0.7435\n",
      "Epoch 82: early stopping\n"
     ]
    },
    {
     "data": {
      "text/plain": [
       "<keras.callbacks.History at 0x2020c38dc40>"
      ]
     },
     "execution_count": 12,
     "metadata": {},
     "output_type": "execute_result"
    }
   ],
   "source": [
    "model.fit(\n",
    "    X_train,\n",
    "    y_train,\n",
    "    epochs=1000,\n",
    "    batch_size=128,\n",
    "    validation_data=(X_test, y_test),\n",
    "    callbacks=[cp_callback, es_callback]\n",
    ")"
   ]
  },
  {
   "cell_type": "code",
   "execution_count": 13,
   "metadata": {},
   "outputs": [],
   "source": [
    "# 保存したモデルのロード\n",
    "model = tf.keras.models.load_model(model_save_path)"
   ]
  },
  {
   "cell_type": "code",
   "execution_count": 15,
   "metadata": {},
   "outputs": [
    {
     "name": "stdout",
     "output_type": "stream",
     "text": [
      "[0.32203755 0.35089973 0.11353717 0.21352556]\n",
      "1\n"
     ]
    }
   ],
   "source": [
    "# 推論テスト\n",
    "predict_result = model.predict(np.array([X_test[0]]))\n",
    "print(np.squeeze(predict_result))\n",
    "print(np.argmax(np.squeeze(predict_result)))"
   ]
  },
  {
   "cell_type": "markdown",
   "metadata": {},
   "source": [
    "# 混同行列"
   ]
  },
  {
   "cell_type": "code",
   "execution_count": 16,
   "metadata": {},
   "outputs": [
    {
     "data": {
      "image/png": "[encoded data removed]",
      "text/plain": [
       "<Figure size 504x432 with 2 Axes>"
      ]
     },
     "metadata": {
      "needs_background": "light"
     },
     "output_type": "display_data"
    },
    {
     "name": "stdout",
     "output_type": "stream",
     "text": [
      "Classification Report\n",
      "              precision    recall  f1-score   support\n",
      "\n",
      "           0       0.56      0.16      0.25        63\n",
      "           1       0.51      0.89      0.65        82\n",
      "           2       0.98      0.99      0.98        89\n",
      "           3       1.00      0.78      0.88        74\n",
      "\n",
      "    accuracy                           0.74       308\n",
      "   macro avg       0.76      0.71      0.69       308\n",
      "weighted avg       0.77      0.74      0.72       308\n",
      "\n"
     ]
    }
   ],
   "source": [
    "import pandas as pd\n",
    "import seaborn as sns\n",
    "import matplotlib.pyplot as plt\n",
    "from sklearn.metrics import confusion_matrix, classification_report\n",
    "\n",
    "def print_confusion_matrix(y_true, y_pred, report=True):\n",
    "    labels = sorted(list(set(y_true)))\n",
    "    cmx_data = confusion_matrix(y_true, y_pred, labels=labels)\n",
    "    \n",
    "    df_cmx = pd.DataFrame(cmx_data, index=labels, columns=labels)\n",
    " \n",
    "    fig, ax = plt.subplots(figsize=(7, 6))\n",
    "    sns.heatmap(df_cmx, annot=True, fmt='g' ,square=False)\n",
    "    ax.set_ylim(len(set(y_true)), 0)\n",
    "    plt.show()\n",
    "    \n",
    "    if report:\n",
    "        print('Classification Report')\n",
    "        print(classification_report(y_test, y_pred))\n",
    "\n",
    "Y_pred = model.predict(X_test)\n",
    "y_pred = np.argmax(Y_pred, axis=1)\n",
    "\n",
    "print_confusion_matrix(y_test, y_pred)"
   ]
  },
  {
   "cell_type": "markdown",
   "metadata": {},
   "source": [
    "# Tensorflow-Lite用のモデルへ変換"
   ]
  },
  {
   "cell_type": "code",
   "execution_count": 17,
   "metadata": {},
   "outputs": [
    {
     "name": "stdout",
     "output_type": "stream",
     "text": [
      "WARNING:tensorflow:No training configuration found in the save file, so the model was *not* compiled. Compile it manually.\n"
     ]
    }
   ],
   "source": [
    "# 推論専用のモデルとして保存\n",
    "model.save(model_save_path, include_optimizer=False)\n",
    "model = tf.keras.models.load_model(model_save_path)"
   ]
  },
  {
   "cell_type": "code",
   "execution_count": 18,
   "metadata": {},
   "outputs": [],
   "source": [
    "tflite_save_path = 'model/point_history_classifier/point_history_classifier.tflite'"
   ]
  },
  {
   "cell_type": "code",
   "execution_count": 19,
   "metadata": {},
   "outputs": [
    {
     "name": "stdout",
     "output_type": "stream",
     "text": [
      "INFO:tensorflow:Assets written to: C:\\Users\\Asus\\AppData\\Local\\Temp\\tmp78akcr46\\assets\n"
     ]
    },
    {
     "name": "stderr",
     "output_type": "stream",
     "text": [
      "WARNING:absl:Buffer deduplication procedure will be skipped when flatbuffer library is not properly loaded\n"
     ]
    },
    {
     "data": {
      "text/plain": [
       "19424"
      ]
     },
     "execution_count": 19,
     "metadata": {},
     "output_type": "execute_result"
    }
   ],
   "source": [
    "# モデルを変換(量子化\n",
    "converter = tf.lite.TFLiteConverter.from_keras_model(model)  \n",
    "# converter = tf.lite.TFLiteConverter.from_saved_model(saved_model_path)\n",
    "converter.optimizations = [tf.lite.Optimize.DEFAULT]\n",
    "tflite_quantized_model = converter.convert()\n",
    "\n",
    "open(tflite_save_path, 'wb').write(tflite_quantized_model)"
   ]
  },
  {
   "cell_type": "markdown",
   "metadata": {},
   "source": [
    "# 推論テスト"
   ]
  },
  {
   "cell_type": "code",
   "execution_count": 20,
   "metadata": {},
   "outputs": [],
   "source": [
    "interpreter = tf.lite.Interpreter(model_path=tflite_save_path)\n",
    "interpreter.allocate_tensors()"
   ]
  },
  {
   "cell_type": "code",
   "execution_count": 21,
   "metadata": {},
   "outputs": [
    {
     "name": "stdout",
     "output_type": "stream",
     "text": [
      "[{'name': 'serving_default_input_1:0', 'index': 0, 'shape': array([  1, 672]), 'shape_signature': array([ -1, 672]), 'dtype': <class 'numpy.float32'>, 'quantization': (0.0, 0), 'quantization_parameters': {'scales': array([], dtype=float32), 'zero_points': array([], dtype=int32), 'quantized_dimension': 0}, 'sparsity_parameters': {}}]\n"
     ]
    }
   ],
   "source": [
    "# 入出力テンソルを取得\n",
    "input_details = interpreter.get_input_details()\n",
    "output_details = interpreter.get_output_details()\n",
    "print(input_details)"
   ]
  },
  {
   "cell_type": "code",
   "execution_count": 22,
   "metadata": {},
   "outputs": [],
   "source": [
    "interpreter.set_tensor(input_details[0]['index'], np.array([X_test[0]]))"
   ]
  },
  {
   "cell_type": "code",
   "execution_count": 23,
   "metadata": {},
   "outputs": [
    {
     "name": "stdout",
     "output_type": "stream",
     "text": [
      "CPU times: total: 0 ns\n",
      "Wall time: 2.99 ms\n"
     ]
    }
   ],
   "source": [
    "%%time\n",
    "# 推論実施\n",
    "interpreter.invoke()\n",
    "tflite_results = interpreter.get_tensor(output_details[0]['index'])"
   ]
  },
  {
   "cell_type": "code",
   "execution_count": 24,
   "metadata": {},
   "outputs": [
    {
     "name": "stdout",
     "output_type": "stream",
     "text": [
      "[0.32203755 0.35089976 0.11353718 0.21352556]\n",
      "1\n"
     ]
    }
   ],
   "source": [
    "print(np.squeeze(tflite_results))\n",
    "print(np.argmax(np.squeeze(tflite_results)))"
   ]
  },
  {
   "cell_type": "code",
   "execution_count": null,
   "metadata": {},
   "outputs": [],
   "source": []
  }
 ],
 "metadata": {
  "kernelspec": {
   "display_name": "Python 3",
   "language": "python",
   "name": "python3"
  },
  "language_info": {
   "codemirror_mode": {
    "name": "ipython",
    "version": 3
   },
   "file_extension": ".py",
   "mimetype": "text/x-python",
   "name": "python",
   "nbconvert_exporter": "python",
   "pygments_lexer": "ipython3",
   "version": "3.9.2"
  }
 },
 "nbformat": 4,
 "nbformat_minor": 4
}
