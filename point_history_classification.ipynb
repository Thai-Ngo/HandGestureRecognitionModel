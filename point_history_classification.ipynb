{
 "cells": [
  {
   "cell_type": "code",
   "execution_count": 1,
   "metadata": {},
   "outputs": [],
   "source": [
    "import csv\n",
    "\n",
    "import numpy as np\n",
    "import tensorflow as tf\n",
    "from sklearn.model_selection import train_test_split\n",
    "\n",
    "RANDOM_SEED = 1912046"
   ]
  },
  {
   "cell_type": "markdown",
   "metadata": {},
   "source": [
    "Specify each path"
   ]
  },
  {
   "cell_type": "code",
   "execution_count": 2,
   "metadata": {},
   "outputs": [],
   "source": [
    "dataset = 'model/point_history_classifier/point_history.csv'\n",
    "model_save_path = 'model/point_history_classifier/point_history_classifier.hdf5'"
   ]
  },
  {
   "cell_type": "markdown",
   "metadata": {},
   "source": [
    "# 分類数設定"
   ]
  },
  {
   "cell_type": "code",
   "execution_count": 3,
   "metadata": {},
   "outputs": [],
   "source": [
    "NUM_CLASSES = 3"
   ]
  },
  {
   "cell_type": "markdown",
   "metadata": {},
   "source": [
    "# 入力長"
   ]
  },
  {
   "cell_type": "code",
   "execution_count": 4,
   "metadata": {},
   "outputs": [],
   "source": [
    "TIME_STEPS = 24\n",
    "DIMENSION = 42"
   ]
  },
  {
   "cell_type": "markdown",
   "metadata": {},
   "source": [
    "# 学習データ読み込み"
   ]
  },
  {
   "cell_type": "code",
   "execution_count": 5,
   "metadata": {},
   "outputs": [],
   "source": [
    "X_dataset = np.loadtxt(dataset, delimiter=',', dtype='float32', usecols=list(range(1, (TIME_STEPS * DIMENSION) + 1)))"
   ]
  },
  {
   "cell_type": "code",
   "execution_count": 6,
   "metadata": {},
   "outputs": [],
   "source": [
    "y_dataset = np.loadtxt(dataset, delimiter=',', dtype='int32', usecols=(0))"
   ]
  },
  {
   "cell_type": "code",
   "execution_count": 7,
   "metadata": {},
   "outputs": [],
   "source": [
    "X_train, X_test, y_train, y_test = train_test_split(X_dataset, y_dataset, train_size=0.75, random_state=RANDOM_SEED)"
   ]
  },
  {
   "cell_type": "markdown",
   "metadata": {},
   "source": [
    "# モデル構築"
   ]
  },
  {
   "cell_type": "code",
   "execution_count": 8,
   "metadata": {},
   "outputs": [],
   "source": [
    "use_lstm = False\n",
    "model = None\n",
    "\n",
    "if use_lstm:\n",
    "    model = tf.keras.models.Sequential([\n",
    "        tf.keras.layers.InputLayer(input_shape=(TIME_STEPS * DIMENSION, )),\n",
    "        tf.keras.layers.Reshape((TIME_STEPS, DIMENSION), input_shape=(TIME_STEPS * DIMENSION, )), \n",
    "        tf.keras.layers.Dropout(0.2),\n",
    "        tf.keras.layers.LSTM(24, input_shape=[TIME_STEPS, DIMENSION]),\n",
    "        tf.keras.layers.Dropout(0.5),\n",
    "        tf.keras.layers.Dense(20, activation='relu'),\n",
    "        tf.keras.layers.Dense(NUM_CLASSES, activation='softmax')\n",
    "    ])\n",
    "else:\n",
    "    model = tf.keras.models.Sequential([\n",
    "        tf.keras.layers.InputLayer(input_shape=(TIME_STEPS * DIMENSION, )),\n",
    "        tf.keras.layers.Dropout(0.2),\n",
    "        tf.keras.layers.Dense(24, activation='relu'),\n",
    "        tf.keras.layers.Dropout(0.5),\n",
    "        tf.keras.layers.Dense(10, activation='relu'),\n",
    "        tf.keras.layers.Dense(NUM_CLASSES, activation='softmax')\n",
    "    ])"
   ]
  },
  {
   "cell_type": "code",
   "execution_count": 9,
   "metadata": {},
   "outputs": [
    {
     "name": "stdout",
     "output_type": "stream",
     "text": [
      "Model: \"sequential\"\n",
      "_________________________________________________________________\n",
      " Layer (type)                Output Shape              Param #   \n",
      "=================================================================\n",
      " dropout (Dropout)           (None, 1008)              0         \n",
      "                                                                 \n",
      " dense (Dense)               (None, 24)                24216     \n",
      "                                                                 \n",
      " dropout_1 (Dropout)         (None, 24)                0         \n",
      "                                                                 \n",
      " dense_1 (Dense)             (None, 10)                250       \n",
      "                                                                 \n",
      " dense_2 (Dense)             (None, 3)                 33        \n",
      "                                                                 \n",
      "=================================================================\n",
      "Total params: 24,499\n",
      "Trainable params: 24,499\n",
      "Non-trainable params: 0\n",
      "_________________________________________________________________\n"
     ]
    }
   ],
   "source": [
    "model.summary()  # tf.keras.utils.plot_model(model, show_shapes=True)"
   ]
  },
  {
   "cell_type": "code",
   "execution_count": 10,
   "metadata": {},
   "outputs": [],
   "source": [
    "# モデルチェックポイントのコールバック\n",
    "cp_callback = tf.keras.callbacks.ModelCheckpoint(\n",
    "    model_save_path, verbose=1, save_weights_only=False)\n",
    "# 早期打ち切り用コールバック\n",
    "es_callback = tf.keras.callbacks.EarlyStopping(patience=20, verbose=1)"
   ]
  },
  {
   "cell_type": "code",
   "execution_count": 11,
   "metadata": {},
   "outputs": [],
   "source": [
    "# モデルコンパイル\n",
    "model.compile(\n",
    "    optimizer='adam',\n",
    "    loss='sparse_categorical_crossentropy',\n",
    "    metrics=['accuracy']\n",
    ")"
   ]
  },
  {
   "cell_type": "markdown",
   "metadata": {},
   "source": [
    "# モデル訓練"
   ]
  },
  {
   "cell_type": "code",
   "execution_count": 12,
   "metadata": {
    "scrolled": true
   },
   "outputs": [
    {
     "name": "stdout",
     "output_type": "stream",
     "text": [
      "Epoch 1/1000\n",
      "18/18 [==============================] - ETA: 0s - loss: 0.7083 - accuracy: 0.6429\n",
      "Epoch 1: saving model to model/point_history_classifier\\point_history_classifier.hdf5\n",
      "18/18 [==============================] - 1s 14ms/step - loss: 0.7083 - accuracy: 0.6429 - val_loss: 0.4821 - val_accuracy: 0.7756\n",
      "Epoch 2/1000\n",
      "15/18 [========================>.....] - ETA: 0s - loss: 0.4843 - accuracy: 0.7953\n",
      "Epoch 2: saving model to model/point_history_classifier\\point_history_classifier.hdf5\n",
      "18/18 [==============================] - 0s 6ms/step - loss: 0.4797 - accuracy: 0.8079 - val_loss: 0.4303 - val_accuracy: 0.8504\n",
      "Epoch 3/1000\n",
      "18/18 [==============================] - ETA: 0s - loss: 0.4308 - accuracy: 0.8832\n",
      "Epoch 3: saving model to model/point_history_classifier\\point_history_classifier.hdf5\n",
      "18/18 [==============================] - 0s 9ms/step - loss: 0.4308 - accuracy: 0.8832 - val_loss: 0.4012 - val_accuracy: 0.9514\n",
      "Epoch 4/1000\n",
      "13/18 [====================>.........] - ETA: 0s - loss: 0.4118 - accuracy: 0.9273\n",
      "Epoch 4: saving model to model/point_history_classifier\\point_history_classifier.hdf5\n",
      "18/18 [==============================] - 0s 6ms/step - loss: 0.4040 - accuracy: 0.9317 - val_loss: 0.3794 - val_accuracy: 0.9777\n",
      "Epoch 5/1000\n",
      "15/18 [========================>.....] - ETA: 0s - loss: 0.3786 - accuracy: 0.9661\n",
      "Epoch 5: saving model to model/point_history_classifier\\point_history_classifier.hdf5\n",
      "18/18 [==============================] - 0s 6ms/step - loss: 0.3762 - accuracy: 0.9672 - val_loss: 0.3640 - val_accuracy: 0.9843\n",
      "Epoch 6/1000\n",
      "12/18 [===================>..........] - ETA: 0s - loss: 0.3654 - accuracy: 0.9798\n",
      "Epoch 6: saving model to model/point_history_classifier\\point_history_classifier.hdf5\n",
      "18/18 [==============================] - 0s 8ms/step - loss: 0.3589 - accuracy: 0.9794 - val_loss: 0.3517 - val_accuracy: 0.9882\n",
      "Epoch 7/1000\n",
      "18/18 [==============================] - ETA: 0s - loss: 0.3495 - accuracy: 0.9856\n",
      "Epoch 7: saving model to model/point_history_classifier\\point_history_classifier.hdf5\n",
      "18/18 [==============================] - 0s 5ms/step - loss: 0.3495 - accuracy: 0.9856 - val_loss: 0.3411 - val_accuracy: 0.9908\n",
      "Epoch 8/1000\n",
      "13/18 [====================>.........] - ETA: 0s - loss: 0.3370 - accuracy: 0.9844\n",
      "Epoch 8: saving model to model/point_history_classifier\\point_history_classifier.hdf5\n",
      "18/18 [==============================] - 0s 8ms/step - loss: 0.3430 - accuracy: 0.9860 - val_loss: 0.3294 - val_accuracy: 0.9921\n",
      "Epoch 9/1000\n",
      "12/18 [===================>..........] - ETA: 0s - loss: 0.3312 - accuracy: 0.9883\n",
      "Epoch 9: saving model to model/point_history_classifier\\point_history_classifier.hdf5\n",
      "18/18 [==============================] - 0s 7ms/step - loss: 0.3304 - accuracy: 0.9886 - val_loss: 0.3228 - val_accuracy: 0.9921\n",
      "Epoch 10/1000\n",
      "14/18 [======================>.......] - ETA: 0s - loss: 0.3240 - accuracy: 0.9872\n",
      "Epoch 10: saving model to model/point_history_classifier\\point_history_classifier.hdf5\n",
      "18/18 [==============================] - 0s 7ms/step - loss: 0.3207 - accuracy: 0.9877 - val_loss: 0.3146 - val_accuracy: 0.9934\n",
      "Epoch 11/1000\n",
      "14/18 [======================>.......] - ETA: 0s - loss: 0.3197 - accuracy: 0.9872\n",
      "Epoch 11: saving model to model/point_history_classifier\\point_history_classifier.hdf5\n",
      "18/18 [==============================] - 0s 7ms/step - loss: 0.3113 - accuracy: 0.9864 - val_loss: 0.3049 - val_accuracy: 0.9948\n",
      "Epoch 12/1000\n",
      "13/18 [====================>.........] - ETA: 0s - loss: 0.2978 - accuracy: 0.9916\n",
      "Epoch 12: saving model to model/point_history_classifier\\point_history_classifier.hdf5\n",
      "18/18 [==============================] - 0s 6ms/step - loss: 0.2987 - accuracy: 0.9921 - val_loss: 0.2994 - val_accuracy: 0.9948\n",
      "Epoch 13/1000\n",
      "15/18 [========================>.....] - ETA: 0s - loss: 0.2915 - accuracy: 0.9917\n",
      "Epoch 13: saving model to model/point_history_classifier\\point_history_classifier.hdf5\n",
      "18/18 [==============================] - 0s 7ms/step - loss: 0.2936 - accuracy: 0.9904 - val_loss: 0.2905 - val_accuracy: 0.9948\n",
      "Epoch 14/1000\n",
      " 1/18 [>.............................] - ETA: 0s - loss: 0.2561 - accuracy: 1.0000\n",
      "Epoch 14: saving model to model/point_history_classifier\\point_history_classifier.hdf5\n",
      "18/18 [==============================] - 0s 5ms/step - loss: 0.2886 - accuracy: 0.9917 - val_loss: 0.2829 - val_accuracy: 0.9961\n",
      "Epoch 15/1000\n",
      "15/18 [========================>.....] - ETA: 0s - loss: 0.2818 - accuracy: 0.9917\n",
      "Epoch 15: saving model to model/point_history_classifier\\point_history_classifier.hdf5\n",
      "18/18 [==============================] - 0s 6ms/step - loss: 0.2818 - accuracy: 0.9917 - val_loss: 0.2783 - val_accuracy: 0.9948\n",
      "Epoch 16/1000\n",
      "14/18 [======================>.......] - ETA: 0s - loss: 0.2791 - accuracy: 0.9888\n",
      "Epoch 16: saving model to model/point_history_classifier\\point_history_classifier.hdf5\n",
      "18/18 [==============================] - 0s 7ms/step - loss: 0.2753 - accuracy: 0.9877 - val_loss: 0.2731 - val_accuracy: 0.9948\n",
      "Epoch 17/1000\n",
      "15/18 [========================>.....] - ETA: 0s - loss: 0.2595 - accuracy: 0.9927\n",
      "Epoch 17: saving model to model/point_history_classifier\\point_history_classifier.hdf5\n",
      "18/18 [==============================] - 0s 6ms/step - loss: 0.2601 - accuracy: 0.9939 - val_loss: 0.2640 - val_accuracy: 0.9961\n",
      "Epoch 18/1000\n",
      "16/18 [=========================>....] - ETA: 0s - loss: 0.2576 - accuracy: 0.9917\n",
      "Epoch 18: saving model to model/point_history_classifier\\point_history_classifier.hdf5\n",
      "18/18 [==============================] - 0s 6ms/step - loss: 0.2585 - accuracy: 0.9912 - val_loss: 0.2563 - val_accuracy: 0.9961\n",
      "Epoch 19/1000\n",
      "15/18 [========================>.....] - ETA: 0s - loss: 0.2514 - accuracy: 0.9943\n",
      "Epoch 19: saving model to model/point_history_classifier\\point_history_classifier.hdf5\n",
      "18/18 [==============================] - 0s 7ms/step - loss: 0.2507 - accuracy: 0.9939 - val_loss: 0.2489 - val_accuracy: 0.9948\n",
      "Epoch 20/1000\n",
      "16/18 [=========================>....] - ETA: 0s - loss: 0.2464 - accuracy: 0.9922\n",
      "Epoch 20: saving model to model/point_history_classifier\\point_history_classifier.hdf5\n",
      "18/18 [==============================] - 0s 6ms/step - loss: 0.2465 - accuracy: 0.9904 - val_loss: 0.2378 - val_accuracy: 0.9974\n",
      "Epoch 21/1000\n",
      "15/18 [========================>.....] - ETA: 0s - loss: 0.2297 - accuracy: 0.9937\n",
      "Epoch 21: saving model to model/point_history_classifier\\point_history_classifier.hdf5\n",
      "18/18 [==============================] - 0s 8ms/step - loss: 0.2301 - accuracy: 0.9926 - val_loss: 0.2259 - val_accuracy: 0.9974\n",
      "Epoch 22/1000\n",
      "11/18 [=================>............] - ETA: 0s - loss: 0.2194 - accuracy: 0.9950\n",
      "Epoch 22: saving model to model/point_history_classifier\\point_history_classifier.hdf5\n",
      "18/18 [==============================] - 0s 9ms/step - loss: 0.2171 - accuracy: 0.9939 - val_loss: 0.2110 - val_accuracy: 0.9974\n",
      "Epoch 23/1000\n",
      "10/18 [===============>..............] - ETA: 0s - loss: 0.2049 - accuracy: 0.9953\n",
      "Epoch 23: saving model to model/point_history_classifier\\point_history_classifier.hdf5\n",
      "18/18 [==============================] - 0s 9ms/step - loss: 0.2044 - accuracy: 0.9934 - val_loss: 0.1946 - val_accuracy: 0.9974\n",
      "Epoch 24/1000\n",
      "18/18 [==============================] - ETA: 0s - loss: 0.1940 - accuracy: 0.9926\n",
      "Epoch 24: saving model to model/point_history_classifier\\point_history_classifier.hdf5\n",
      "18/18 [==============================] - 0s 11ms/step - loss: 0.1940 - accuracy: 0.9926 - val_loss: 0.1786 - val_accuracy: 0.9961\n",
      "Epoch 25/1000\n",
      "17/18 [===========================>..] - ETA: 0s - loss: 0.1859 - accuracy: 0.9890\n",
      "Epoch 25: saving model to model/point_history_classifier\\point_history_classifier.hdf5\n",
      "18/18 [==============================] - 0s 10ms/step - loss: 0.1852 - accuracy: 0.9891 - val_loss: 0.1620 - val_accuracy: 0.9948\n",
      "Epoch 26/1000\n",
      "10/18 [===============>..............] - ETA: 0s - loss: 0.1779 - accuracy: 0.9906\n",
      "Epoch 26: saving model to model/point_history_classifier\\point_history_classifier.hdf5\n",
      "18/18 [==============================] - 0s 11ms/step - loss: 0.1674 - accuracy: 0.9904 - val_loss: 0.1428 - val_accuracy: 0.9961\n",
      "Epoch 27/1000\n"
     ]
    },
    {
     "name": "stdout",
     "output_type": "stream",
     "text": [
      "10/18 [===============>..............] - ETA: 0s - loss: 0.1415 - accuracy: 0.9945\n",
      "Epoch 27: saving model to model/point_history_classifier\\point_history_classifier.hdf5\n",
      "18/18 [==============================] - 0s 10ms/step - loss: 0.1440 - accuracy: 0.9943 - val_loss: 0.1211 - val_accuracy: 0.9948\n",
      "Epoch 28/1000\n",
      "12/18 [===================>..........] - ETA: 0s - loss: 0.1402 - accuracy: 0.9909\n",
      "Epoch 28: saving model to model/point_history_classifier\\point_history_classifier.hdf5\n",
      "18/18 [==============================] - 0s 8ms/step - loss: 0.1334 - accuracy: 0.9921 - val_loss: 0.1030 - val_accuracy: 0.9961\n",
      "Epoch 29/1000\n",
      "11/18 [=================>............] - ETA: 0s - loss: 0.1159 - accuracy: 0.9915\n",
      "Epoch 29: saving model to model/point_history_classifier\\point_history_classifier.hdf5\n",
      "18/18 [==============================] - 0s 8ms/step - loss: 0.1154 - accuracy: 0.9930 - val_loss: 0.0889 - val_accuracy: 0.9948\n",
      "Epoch 30/1000\n",
      "18/18 [==============================] - ETA: 0s - loss: 0.1076 - accuracy: 0.9904\n",
      "Epoch 30: saving model to model/point_history_classifier\\point_history_classifier.hdf5\n",
      "18/18 [==============================] - 0s 13ms/step - loss: 0.1076 - accuracy: 0.9904 - val_loss: 0.0778 - val_accuracy: 0.9934\n",
      "Epoch 31/1000\n",
      "18/18 [==============================] - ETA: 0s - loss: 0.0979 - accuracy: 0.9908\n",
      "Epoch 31: saving model to model/point_history_classifier\\point_history_classifier.hdf5\n",
      "18/18 [==============================] - 0s 16ms/step - loss: 0.0979 - accuracy: 0.9908 - val_loss: 0.0688 - val_accuracy: 0.9948\n",
      "Epoch 32/1000\n",
      "17/18 [===========================>..] - ETA: 0s - loss: 0.0896 - accuracy: 0.9908\n",
      "Epoch 32: saving model to model/point_history_classifier\\point_history_classifier.hdf5\n",
      "18/18 [==============================] - 0s 12ms/step - loss: 0.0894 - accuracy: 0.9912 - val_loss: 0.0621 - val_accuracy: 0.9934\n",
      "Epoch 33/1000\n",
      "18/18 [==============================] - ETA: 0s - loss: 0.0814 - accuracy: 0.9917\n",
      "Epoch 33: saving model to model/point_history_classifier\\point_history_classifier.hdf5\n",
      "18/18 [==============================] - 0s 11ms/step - loss: 0.0814 - accuracy: 0.9917 - val_loss: 0.0539 - val_accuracy: 0.9948\n",
      "Epoch 34/1000\n",
      "10/18 [===============>..............] - ETA: 0s - loss: 0.0720 - accuracy: 0.9953\n",
      "Epoch 34: saving model to model/point_history_classifier\\point_history_classifier.hdf5\n",
      "18/18 [==============================] - 0s 9ms/step - loss: 0.0766 - accuracy: 0.9921 - val_loss: 0.0475 - val_accuracy: 0.9948\n",
      "Epoch 35/1000\n",
      " 9/18 [==============>...............] - ETA: 0s - loss: 0.0752 - accuracy: 0.9931\n",
      "Epoch 35: saving model to model/point_history_classifier\\point_history_classifier.hdf5\n",
      "18/18 [==============================] - 0s 10ms/step - loss: 0.0719 - accuracy: 0.9917 - val_loss: 0.0434 - val_accuracy: 0.9961\n",
      "Epoch 36/1000\n",
      "10/18 [===============>..............] - ETA: 0s - loss: 0.0729 - accuracy: 0.9906\n",
      "Epoch 36: saving model to model/point_history_classifier\\point_history_classifier.hdf5\n",
      "18/18 [==============================] - 0s 10ms/step - loss: 0.0643 - accuracy: 0.9934 - val_loss: 0.0417 - val_accuracy: 0.9934\n",
      "Epoch 37/1000\n",
      "17/18 [===========================>..] - ETA: 0s - loss: 0.0561 - accuracy: 0.9945\n",
      "Epoch 37: saving model to model/point_history_classifier\\point_history_classifier.hdf5\n",
      "18/18 [==============================] - 0s 14ms/step - loss: 0.0557 - accuracy: 0.9947 - val_loss: 0.0376 - val_accuracy: 0.9934\n",
      "Epoch 38/1000\n",
      "11/18 [=================>............] - ETA: 0s - loss: 0.0575 - accuracy: 0.9915\n",
      "Epoch 38: saving model to model/point_history_classifier\\point_history_classifier.hdf5\n",
      "18/18 [==============================] - 0s 9ms/step - loss: 0.0555 - accuracy: 0.9908 - val_loss: 0.0362 - val_accuracy: 0.9934\n",
      "Epoch 39/1000\n",
      "11/18 [=================>............] - ETA: 0s - loss: 0.0533 - accuracy: 0.9943\n",
      "Epoch 39: saving model to model/point_history_classifier\\point_history_classifier.hdf5\n",
      "18/18 [==============================] - 0s 9ms/step - loss: 0.0558 - accuracy: 0.9926 - val_loss: 0.0305 - val_accuracy: 0.9934\n",
      "Epoch 40/1000\n",
      "10/18 [===============>..............] - ETA: 0s - loss: 0.0520 - accuracy: 0.9922\n",
      "Epoch 40: saving model to model/point_history_classifier\\point_history_classifier.hdf5\n",
      "18/18 [==============================] - 0s 9ms/step - loss: 0.0522 - accuracy: 0.9934 - val_loss: 0.0269 - val_accuracy: 0.9961\n",
      "Epoch 41/1000\n",
      "11/18 [=================>............] - ETA: 0s - loss: 0.0471 - accuracy: 0.9915\n",
      "Epoch 41: saving model to model/point_history_classifier\\point_history_classifier.hdf5\n",
      "18/18 [==============================] - 0s 10ms/step - loss: 0.0516 - accuracy: 0.9921 - val_loss: 0.0260 - val_accuracy: 0.9948\n",
      "Epoch 42/1000\n",
      "11/18 [=================>............] - ETA: 0s - loss: 0.0454 - accuracy: 0.9943\n",
      "Epoch 42: saving model to model/point_history_classifier\\point_history_classifier.hdf5\n",
      "18/18 [==============================] - 0s 10ms/step - loss: 0.0444 - accuracy: 0.9943 - val_loss: 0.0246 - val_accuracy: 0.9948\n",
      "Epoch 43/1000\n",
      "18/18 [==============================] - ETA: 0s - loss: 0.0494 - accuracy: 0.9921\n",
      "Epoch 43: saving model to model/point_history_classifier\\point_history_classifier.hdf5\n",
      "18/18 [==============================] - 0s 15ms/step - loss: 0.0494 - accuracy: 0.9921 - val_loss: 0.0255 - val_accuracy: 0.9934\n",
      "Epoch 44/1000\n",
      "11/18 [=================>............] - ETA: 0s - loss: 0.0487 - accuracy: 0.9893\n",
      "Epoch 44: saving model to model/point_history_classifier\\point_history_classifier.hdf5\n",
      "18/18 [==============================] - 0s 10ms/step - loss: 0.0495 - accuracy: 0.9886 - val_loss: 0.0237 - val_accuracy: 0.9934\n",
      "Epoch 45/1000\n",
      "17/18 [===========================>..] - ETA: 0s - loss: 0.0368 - accuracy: 0.9949\n",
      "Epoch 45: saving model to model/point_history_classifier\\point_history_classifier.hdf5\n",
      "18/18 [==============================] - 0s 11ms/step - loss: 0.0363 - accuracy: 0.9952 - val_loss: 0.0232 - val_accuracy: 0.9948\n",
      "Epoch 46/1000\n",
      "11/18 [=================>............] - ETA: 0s - loss: 0.0433 - accuracy: 0.9922\n",
      "Epoch 46: saving model to model/point_history_classifier\\point_history_classifier.hdf5\n",
      "18/18 [==============================] - 0s 9ms/step - loss: 0.0400 - accuracy: 0.9930 - val_loss: 0.0205 - val_accuracy: 0.9961\n",
      "Epoch 47/1000\n",
      "11/18 [=================>............] - ETA: 0s - loss: 0.0299 - accuracy: 0.9972\n",
      "Epoch 47: saving model to model/point_history_classifier\\point_history_classifier.hdf5\n",
      "18/18 [==============================] - 0s 9ms/step - loss: 0.0359 - accuracy: 0.9952 - val_loss: 0.0195 - val_accuracy: 0.9961\n",
      "Epoch 48/1000\n",
      "11/18 [=================>............] - ETA: 0s - loss: 0.0288 - accuracy: 0.9964\n",
      "Epoch 48: saving model to model/point_history_classifier\\point_history_classifier.hdf5\n",
      "18/18 [==============================] - 0s 9ms/step - loss: 0.0333 - accuracy: 0.9952 - val_loss: 0.0192 - val_accuracy: 0.9948\n",
      "Epoch 49/1000\n",
      "11/18 [=================>............] - ETA: 0s - loss: 0.0319 - accuracy: 0.9929\n",
      "Epoch 49: saving model to model/point_history_classifier\\point_history_classifier.hdf5\n",
      "18/18 [==============================] - 0s 10ms/step - loss: 0.0298 - accuracy: 0.9947 - val_loss: 0.0177 - val_accuracy: 0.9948\n",
      "Epoch 50/1000\n",
      "11/18 [=================>............] - ETA: 0s - loss: 0.0289 - accuracy: 0.9929\n",
      "Epoch 50: saving model to model/point_history_classifier\\point_history_classifier.hdf5\n",
      "18/18 [==============================] - 0s 10ms/step - loss: 0.0305 - accuracy: 0.9930 - val_loss: 0.0180 - val_accuracy: 0.9948\n",
      "Epoch 51/1000\n",
      "10/18 [===============>..............] - ETA: 0s - loss: 0.0335 - accuracy: 0.9945\n",
      "Epoch 51: saving model to model/point_history_classifier\\point_history_classifier.hdf5\n",
      "18/18 [==============================] - 0s 10ms/step - loss: 0.0316 - accuracy: 0.9952 - val_loss: 0.0165 - val_accuracy: 0.9961\n",
      "Epoch 52/1000\n",
      "17/18 [===========================>..] - ETA: 0s - loss: 0.0312 - accuracy: 0.9954\n",
      "Epoch 52: saving model to model/point_history_classifier\\point_history_classifier.hdf5\n",
      "18/18 [==============================] - 0s 11ms/step - loss: 0.0308 - accuracy: 0.9956 - val_loss: 0.0174 - val_accuracy: 0.9948\n",
      "Epoch 53/1000\n"
     ]
    },
    {
     "name": "stdout",
     "output_type": "stream",
     "text": [
      "18/18 [==============================] - ETA: 0s - loss: 0.0347 - accuracy: 0.9934\n",
      "Epoch 53: saving model to model/point_history_classifier\\point_history_classifier.hdf5\n",
      "18/18 [==============================] - 0s 12ms/step - loss: 0.0347 - accuracy: 0.9934 - val_loss: 0.0164 - val_accuracy: 0.9961\n",
      "Epoch 54/1000\n",
      "18/18 [==============================] - ETA: 0s - loss: 0.0283 - accuracy: 0.9947\n",
      "Epoch 54: saving model to model/point_history_classifier\\point_history_classifier.hdf5\n",
      "18/18 [==============================] - 0s 11ms/step - loss: 0.0283 - accuracy: 0.9947 - val_loss: 0.0180 - val_accuracy: 0.9948\n",
      "Epoch 55/1000\n",
      "12/18 [===================>..........] - ETA: 0s - loss: 0.0294 - accuracy: 0.9954\n",
      "Epoch 55: saving model to model/point_history_classifier\\point_history_classifier.hdf5\n",
      "18/18 [==============================] - 0s 10ms/step - loss: 0.0266 - accuracy: 0.9961 - val_loss: 0.0171 - val_accuracy: 0.9948\n",
      "Epoch 56/1000\n",
      "10/18 [===============>..............] - ETA: 0s - loss: 0.0352 - accuracy: 0.9914\n",
      "Epoch 56: saving model to model/point_history_classifier\\point_history_classifier.hdf5\n",
      "18/18 [==============================] - 0s 10ms/step - loss: 0.0319 - accuracy: 0.9921 - val_loss: 0.0162 - val_accuracy: 0.9948\n",
      "Epoch 57/1000\n",
      "10/18 [===============>..............] - ETA: 0s - loss: 0.0243 - accuracy: 0.9984\n",
      "Epoch 57: saving model to model/point_history_classifier\\point_history_classifier.hdf5\n",
      "18/18 [==============================] - 0s 10ms/step - loss: 0.0235 - accuracy: 0.9978 - val_loss: 0.0174 - val_accuracy: 0.9948\n",
      "Epoch 58/1000\n",
      "11/18 [=================>............] - ETA: 0s - loss: 0.0346 - accuracy: 0.9908\n",
      "Epoch 58: saving model to model/point_history_classifier\\point_history_classifier.hdf5\n",
      "18/18 [==============================] - 0s 10ms/step - loss: 0.0358 - accuracy: 0.9917 - val_loss: 0.0182 - val_accuracy: 0.9961\n",
      "Epoch 59/1000\n",
      "10/18 [===============>..............] - ETA: 0s - loss: 0.0287 - accuracy: 0.9953\n",
      "Epoch 59: saving model to model/point_history_classifier\\point_history_classifier.hdf5\n",
      "18/18 [==============================] - 0s 9ms/step - loss: 0.0360 - accuracy: 0.9917 - val_loss: 0.0150 - val_accuracy: 0.9961\n",
      "Epoch 60/1000\n",
      "10/18 [===============>..............] - ETA: 0s - loss: 0.0210 - accuracy: 0.9953\n",
      "Epoch 60: saving model to model/point_history_classifier\\point_history_classifier.hdf5\n",
      "18/18 [==============================] - 0s 10ms/step - loss: 0.0260 - accuracy: 0.9961 - val_loss: 0.0119 - val_accuracy: 0.9961\n",
      "Epoch 61/1000\n",
      "11/18 [=================>............] - ETA: 0s - loss: 0.0279 - accuracy: 0.9957\n",
      "Epoch 61: saving model to model/point_history_classifier\\point_history_classifier.hdf5\n",
      "18/18 [==============================] - 0s 9ms/step - loss: 0.0278 - accuracy: 0.9956 - val_loss: 0.0133 - val_accuracy: 0.9961\n",
      "Epoch 62/1000\n",
      "18/18 [==============================] - ETA: 0s - loss: 0.0325 - accuracy: 0.9930\n",
      "Epoch 62: saving model to model/point_history_classifier\\point_history_classifier.hdf5\n",
      "18/18 [==============================] - 0s 11ms/step - loss: 0.0325 - accuracy: 0.9930 - val_loss: 0.0145 - val_accuracy: 0.9948\n",
      "Epoch 63/1000\n",
      "10/18 [===============>..............] - ETA: 0s - loss: 0.0257 - accuracy: 0.9937\n",
      "Epoch 63: saving model to model/point_history_classifier\\point_history_classifier.hdf5\n",
      "18/18 [==============================] - 0s 10ms/step - loss: 0.0323 - accuracy: 0.9939 - val_loss: 0.0150 - val_accuracy: 0.9948\n",
      "Epoch 64/1000\n",
      "11/18 [=================>............] - ETA: 0s - loss: 0.0269 - accuracy: 0.9972\n",
      "Epoch 64: saving model to model/point_history_classifier\\point_history_classifier.hdf5\n",
      "18/18 [==============================] - 0s 10ms/step - loss: 0.0304 - accuracy: 0.9956 - val_loss: 0.0185 - val_accuracy: 0.9948\n",
      "Epoch 65/1000\n",
      "15/18 [========================>.....] - ETA: 0s - loss: 0.0258 - accuracy: 0.9943\n",
      "Epoch 65: saving model to model/point_history_classifier\\point_history_classifier.hdf5\n",
      "18/18 [==============================] - 0s 14ms/step - loss: 0.0248 - accuracy: 0.9943 - val_loss: 0.0172 - val_accuracy: 0.9948\n",
      "Epoch 66/1000\n",
      "11/18 [=================>............] - ETA: 0s - loss: 0.0214 - accuracy: 0.9964\n",
      "Epoch 66: saving model to model/point_history_classifier\\point_history_classifier.hdf5\n",
      "18/18 [==============================] - 0s 9ms/step - loss: 0.0211 - accuracy: 0.9965 - val_loss: 0.0144 - val_accuracy: 0.9961\n",
      "Epoch 67/1000\n",
      "10/18 [===============>..............] - ETA: 0s - loss: 0.0246 - accuracy: 0.9961\n",
      "Epoch 67: saving model to model/point_history_classifier\\point_history_classifier.hdf5\n",
      "18/18 [==============================] - 0s 10ms/step - loss: 0.0210 - accuracy: 0.9965 - val_loss: 0.0131 - val_accuracy: 0.9961\n",
      "Epoch 68/1000\n",
      "10/18 [===============>..............] - ETA: 0s - loss: 0.0221 - accuracy: 0.9969\n",
      "Epoch 68: saving model to model/point_history_classifier\\point_history_classifier.hdf5\n",
      "18/18 [==============================] - 0s 9ms/step - loss: 0.0292 - accuracy: 0.9943 - val_loss: 0.0156 - val_accuracy: 0.9961\n",
      "Epoch 69/1000\n",
      "10/18 [===============>..............] - ETA: 0s - loss: 0.0167 - accuracy: 0.9969\n",
      "Epoch 69: saving model to model/point_history_classifier\\point_history_classifier.hdf5\n",
      "18/18 [==============================] - 0s 9ms/step - loss: 0.0227 - accuracy: 0.9956 - val_loss: 0.0151 - val_accuracy: 0.9961\n",
      "Epoch 70/1000\n",
      "10/18 [===============>..............] - ETA: 0s - loss: 0.0259 - accuracy: 0.9961\n",
      "Epoch 70: saving model to model/point_history_classifier\\point_history_classifier.hdf5\n",
      "18/18 [==============================] - 0s 9ms/step - loss: 0.0228 - accuracy: 0.9965 - val_loss: 0.0146 - val_accuracy: 0.9961\n",
      "Epoch 71/1000\n",
      " 9/18 [==============>...............] - ETA: 0s - loss: 0.0301 - accuracy: 0.9939\n",
      "Epoch 71: saving model to model/point_history_classifier\\point_history_classifier.hdf5\n",
      "18/18 [==============================] - 0s 9ms/step - loss: 0.0276 - accuracy: 0.9943 - val_loss: 0.0156 - val_accuracy: 0.9934\n",
      "Epoch 72/1000\n",
      "13/18 [====================>.........] - ETA: 0s - loss: 0.0400 - accuracy: 0.9922\n",
      "Epoch 72: saving model to model/point_history_classifier\\point_history_classifier.hdf5\n",
      "18/18 [==============================] - 0s 9ms/step - loss: 0.0336 - accuracy: 0.9939 - val_loss: 0.0183 - val_accuracy: 0.9934\n",
      "Epoch 73/1000\n",
      "10/18 [===============>..............] - ETA: 0s - loss: 0.0163 - accuracy: 0.9969\n",
      "Epoch 73: saving model to model/point_history_classifier\\point_history_classifier.hdf5\n",
      "18/18 [==============================] - 0s 10ms/step - loss: 0.0208 - accuracy: 0.9956 - val_loss: 0.0179 - val_accuracy: 0.9934\n",
      "Epoch 74/1000\n",
      "12/18 [===================>..........] - ETA: 0s - loss: 0.0233 - accuracy: 0.9961\n",
      "Epoch 74: saving model to model/point_history_classifier\\point_history_classifier.hdf5\n",
      "18/18 [==============================] - 0s 10ms/step - loss: 0.0211 - accuracy: 0.9965 - val_loss: 0.0175 - val_accuracy: 0.9934\n",
      "Epoch 75/1000\n",
      "15/18 [========================>.....] - ETA: 0s - loss: 0.0243 - accuracy: 0.9932\n",
      "Epoch 75: saving model to model/point_history_classifier\\point_history_classifier.hdf5\n",
      "18/18 [==============================] - 0s 18ms/step - loss: 0.0235 - accuracy: 0.9934 - val_loss: 0.0171 - val_accuracy: 0.9948\n",
      "Epoch 76/1000\n",
      "11/18 [=================>............] - ETA: 0s - loss: 0.0255 - accuracy: 0.9922\n",
      "Epoch 76: saving model to model/point_history_classifier\\point_history_classifier.hdf5\n",
      "18/18 [==============================] - 0s 11ms/step - loss: 0.0275 - accuracy: 0.9921 - val_loss: 0.0160 - val_accuracy: 0.9948\n",
      "Epoch 77/1000\n",
      "10/18 [===============>..............] - ETA: 0s - loss: 0.0284 - accuracy: 0.9922\n",
      "Epoch 77: saving model to model/point_history_classifier\\point_history_classifier.hdf5\n",
      "18/18 [==============================] - 0s 10ms/step - loss: 0.0282 - accuracy: 0.9926 - val_loss: 0.0177 - val_accuracy: 0.9948\n",
      "Epoch 78/1000\n",
      "10/18 [===============>..............] - ETA: 0s - loss: 0.0216 - accuracy: 0.9953\n",
      "Epoch 78: saving model to model/point_history_classifier\\point_history_classifier.hdf5\n",
      "18/18 [==============================] - 0s 10ms/step - loss: 0.0195 - accuracy: 0.9961 - val_loss: 0.0166 - val_accuracy: 0.9948\n",
      "Epoch 79/1000\n"
     ]
    },
    {
     "name": "stdout",
     "output_type": "stream",
     "text": [
      "10/18 [===============>..............] - ETA: 0s - loss: 0.0201 - accuracy: 0.9953\n",
      "Epoch 79: saving model to model/point_history_classifier\\point_history_classifier.hdf5\n",
      "18/18 [==============================] - 0s 10ms/step - loss: 0.0219 - accuracy: 0.9965 - val_loss: 0.0147 - val_accuracy: 0.9961\n",
      "Epoch 80/1000\n",
      "11/18 [=================>............] - ETA: 0s - loss: 0.0277 - accuracy: 0.9915\n",
      "Epoch 80: saving model to model/point_history_classifier\\point_history_classifier.hdf5\n",
      "18/18 [==============================] - 0s 9ms/step - loss: 0.0246 - accuracy: 0.9930 - val_loss: 0.0128 - val_accuracy: 0.9961\n",
      "Epoch 80: early stopping\n"
     ]
    },
    {
     "data": {
      "text/plain": [
       "<keras.callbacks.History at 0x22bd2c72b80>"
      ]
     },
     "execution_count": 12,
     "metadata": {},
     "output_type": "execute_result"
    }
   ],
   "source": [
    "model.fit(\n",
    "    X_train,\n",
    "    y_train,\n",
    "    epochs=1000,\n",
    "    batch_size=128,\n",
    "    validation_data=(X_test, y_test),\n",
    "    callbacks=[cp_callback, es_callback]\n",
    ")"
   ]
  },
  {
   "cell_type": "code",
   "execution_count": 13,
   "metadata": {},
   "outputs": [],
   "source": [
    "# 保存したモデルのロード\n",
    "model = tf.keras.models.load_model(model_save_path)"
   ]
  },
  {
   "cell_type": "code",
   "execution_count": 14,
   "metadata": {},
   "outputs": [
    {
     "name": "stdout",
     "output_type": "stream",
     "text": [
      "[8.2162122e-04 9.1196010e-03 9.9005884e-01]\n",
      "2\n"
     ]
    }
   ],
   "source": [
    "# 推論テスト\n",
    "predict_result = model.predict(np.array([X_test[0]]))\n",
    "print(np.squeeze(predict_result))\n",
    "print(np.argmax(np.squeeze(predict_result)))"
   ]
  },
  {
   "cell_type": "markdown",
   "metadata": {},
   "source": [
    "# 混同行列"
   ]
  },
  {
   "cell_type": "code",
   "execution_count": 15,
   "metadata": {},
   "outputs": [
    {
     "data": {
      "image/png": "[encoded data removed]",
      "text/plain": [
       "<Figure size 504x432 with 2 Axes>"
      ]
     },
     "metadata": {
      "needs_background": "light"
     },
     "output_type": "display_data"
    },
    {
     "name": "stdout",
     "output_type": "stream",
     "text": [
      "Classification Report\n",
      "              precision    recall  f1-score   support\n",
      "\n",
      "           0       1.00      1.00      1.00       252\n",
      "           1       1.00      0.99      0.99       249\n",
      "           2       0.99      1.00      1.00       261\n",
      "\n",
      "    accuracy                           1.00       762\n",
      "   macro avg       1.00      1.00      1.00       762\n",
      "weighted avg       1.00      1.00      1.00       762\n",
      "\n"
     ]
    }
   ],
   "source": [
    "import pandas as pd\n",
    "import seaborn as sns\n",
    "import matplotlib.pyplot as plt\n",
    "from sklearn.metrics import confusion_matrix, classification_report\n",
    "\n",
    "def print_confusion_matrix(y_true, y_pred, report=True):\n",
    "    labels = sorted(list(set(y_true)))\n",
    "    cmx_data = confusion_matrix(y_true, y_pred, labels=labels)\n",
    "    \n",
    "    df_cmx = pd.DataFrame(cmx_data, index=labels, columns=labels)\n",
    " \n",
    "    fig, ax = plt.subplots(figsize=(7, 6))\n",
    "    sns.heatmap(df_cmx, annot=True, fmt='g' ,square=False)\n",
    "    ax.set_ylim(len(set(y_true)), 0)\n",
    "    plt.show()\n",
    "    \n",
    "    if report:\n",
    "        print('Classification Report')\n",
    "        print(classification_report(y_test, y_pred))\n",
    "\n",
    "Y_pred = model.predict(X_test)\n",
    "y_pred = np.argmax(Y_pred, axis=1)\n",
    "\n",
    "print_confusion_matrix(y_test, y_pred)"
   ]
  },
  {
   "cell_type": "markdown",
   "metadata": {},
   "source": [
    "# Tensorflow-Lite用のモデルへ変換"
   ]
  },
  {
   "cell_type": "code",
   "execution_count": 16,
   "metadata": {},
   "outputs": [
    {
     "name": "stdout",
     "output_type": "stream",
     "text": [
      "WARNING:tensorflow:No training configuration found in the save file, so the model was *not* compiled. Compile it manually.\n"
     ]
    }
   ],
   "source": [
    "# 推論専用のモデルとして保存\n",
    "model.save(model_save_path, include_optimizer=False)\n",
    "model = tf.keras.models.load_model(model_save_path)"
   ]
  },
  {
   "cell_type": "code",
   "execution_count": 17,
   "metadata": {},
   "outputs": [],
   "source": [
    "tflite_save_path = 'model/point_history_classifier/point_history_classifier.tflite'"
   ]
  },
  {
   "cell_type": "code",
   "execution_count": 18,
   "metadata": {},
   "outputs": [
    {
     "name": "stdout",
     "output_type": "stream",
     "text": [
      "INFO:tensorflow:Assets written to: C:\\Users\\Asus\\AppData\\Local\\Temp\\tmpt76s7xvb\\assets\n"
     ]
    },
    {
     "name": "stderr",
     "output_type": "stream",
     "text": [
      "WARNING:absl:Buffer deduplication procedure will be skipped when flatbuffer library is not properly loaded\n"
     ]
    },
    {
     "data": {
      "text/plain": [
       "27440"
      ]
     },
     "execution_count": 18,
     "metadata": {},
     "output_type": "execute_result"
    }
   ],
   "source": [
    "# モデルを変換(量子化\n",
    "converter = tf.lite.TFLiteConverter.from_keras_model(model)  \n",
    "# converter = tf.lite.TFLiteConverter.from_saved_model(saved_model_path)\n",
    "converter.optimizations = [tf.lite.Optimize.DEFAULT]\n",
    "tflite_quantized_model = converter.convert()\n",
    "\n",
    "open(tflite_save_path, 'wb').write(tflite_quantized_model)"
   ]
  },
  {
   "cell_type": "markdown",
   "metadata": {},
   "source": [
    "# 推論テスト"
   ]
  },
  {
   "cell_type": "code",
   "execution_count": 19,
   "metadata": {},
   "outputs": [],
   "source": [
    "interpreter = tf.lite.Interpreter(model_path=tflite_save_path)\n",
    "interpreter.allocate_tensors()"
   ]
  },
  {
   "cell_type": "code",
   "execution_count": 20,
   "metadata": {},
   "outputs": [
    {
     "name": "stdout",
     "output_type": "stream",
     "text": [
      "[{'name': 'serving_default_input_1:0', 'index': 0, 'shape': array([   1, 1008]), 'shape_signature': array([  -1, 1008]), 'dtype': <class 'numpy.float32'>, 'quantization': (0.0, 0), 'quantization_parameters': {'scales': array([], dtype=float32), 'zero_points': array([], dtype=int32), 'quantized_dimension': 0}, 'sparsity_parameters': {}}]\n"
     ]
    }
   ],
   "source": [
    "# 入出力テンソルを取得\n",
    "input_details = interpreter.get_input_details()\n",
    "output_details = interpreter.get_output_details()\n",
    "print(input_details)"
   ]
  },
  {
   "cell_type": "code",
   "execution_count": 21,
   "metadata": {},
   "outputs": [],
   "source": [
    "interpreter.set_tensor(input_details[0]['index'], np.array([X_test[0]]))"
   ]
  },
  {
   "cell_type": "code",
   "execution_count": 22,
   "metadata": {},
   "outputs": [
    {
     "name": "stdout",
     "output_type": "stream",
     "text": [
      "CPU times: total: 0 ns\n",
      "Wall time: 0 ns\n"
     ]
    }
   ],
   "source": [
    "%%time\n",
    "# 推論実施\n",
    "interpreter.invoke()\n",
    "tflite_results = interpreter.get_tensor(output_details[0]['index'])"
   ]
  },
  {
   "cell_type": "code",
   "execution_count": 23,
   "metadata": {},
   "outputs": [
    {
     "name": "stdout",
     "output_type": "stream",
     "text": [
      "[8.210667e-04 9.116084e-03 9.900628e-01]\n",
      "2\n"
     ]
    }
   ],
   "source": [
    "print(np.squeeze(tflite_results))\n",
    "print(np.argmax(np.squeeze(tflite_results)))"
   ]
  },
  {
   "cell_type": "code",
   "execution_count": null,
   "metadata": {},
   "outputs": [],
   "source": []
  }
 ],
 "metadata": {
  "kernelspec": {
   "display_name": "Python 3",
   "language": "python",
   "name": "python3"
  },
  "language_info": {
   "codemirror_mode": {
    "name": "ipython",
    "version": 3
   },
   "file_extension": ".py",
   "mimetype": "text/x-python",
   "name": "python",
   "nbconvert_exporter": "python",
   "pygments_lexer": "ipython3",
   "version": "3.9.2"
  }
 },
 "nbformat": 4,
 "nbformat_minor": 4
}
